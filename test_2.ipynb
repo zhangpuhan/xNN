{
 "cells": [
  {
   "cell_type": "code",
   "execution_count": 206,
   "metadata": {
    "pycharm": {
     "is_executing": false
    }
   },
   "outputs": [],
   "source": [
    "import pandas as pd\n",
    "import numpy as np\n",
    "from scipy.stats import ortho_group\n",
    "\n",
    "np.random.seed(0)\n",
    "x = ortho_group.rvs(6)"
   ]
  },
  {
   "cell_type": "code",
   "execution_count": 207,
   "metadata": {
    "pycharm": {
     "is_executing": false,
     "name": "#%%\n"
    }
   },
   "outputs": [],
   "source": [
    "std_list = [1.5, 2.0, 1.5, 2.5, 1.7, 2.2]\n",
    "fdf = pd.DataFrame()\n",
    "for i in range(6):\n",
    "    fdf[i] = np.random.normal(loc=0.0, scale=std_list[i], size=200000)"
   ]
  },
  {
   "cell_type": "code",
   "execution_count": 208,
   "metadata": {
    "pycharm": {
     "is_executing": false,
     "name": "#%%\n"
    }
   },
   "outputs": [
    {
     "name": "stdout",
     "output_type": "stream",
     "text": [
      "[ 0.47669462  0.15964814 -0.47766656  0.55284255 -0.13930486  0.44053222]\n",
      "[ 0.10813329 -0.8838343   0.06718921  0.39309219  0.13141423 -0.1756091 ]\n"
     ]
    }
   ],
   "source": [
    "print(x[0])\n",
    "print(x[1])"
   ]
  },
  {
   "cell_type": "code",
   "execution_count": 209,
   "metadata": {
    "pycharm": {
     "is_executing": false,
     "name": "#%%\n"
    }
   },
   "outputs": [],
   "source": [
    "fdf[\"group\"] = 0.9 / (1.0 + np.exp(-np.matmul(fdf.values, x[0].T) + 5.0)) +\\\n",
    "               0.1 / (1.0 + np.exp(-np.matmul(fdf.values, x[1].T) + 6.0))"
   ]
  },
  {
   "cell_type": "code",
   "execution_count": 210,
   "metadata": {
    "pycharm": {
     "is_executing": false,
     "name": "#%%\n"
    }
   },
   "outputs": [],
   "source": [
    "fdf[\"prob\"] = np.random.uniform(low=0.0, high=1.0, size=200000)\n",
    "fdf[\"label\"] = fdf[\"group\"] > fdf[\"prob\"]\n",
    "fdf[\"label\"] = fdf[\"label\"] * 1"
   ]
  },
  {
   "cell_type": "code",
   "execution_count": 211,
   "metadata": {
    "pycharm": {
     "is_executing": false,
     "name": "#%%\n"
    }
   },
   "outputs": [
    {
     "data": {
      "text/plain": [
       "0    193807\n",
       "1      6193\n",
       "Name: label, dtype: int64"
      ]
     },
     "execution_count": 211,
     "metadata": {},
     "output_type": "execute_result"
    }
   ],
   "source": [
    "fdf.label.value_counts()"
   ]
  },
  {
   "cell_type": "code",
   "execution_count": 212,
   "metadata": {
    "pycharm": {
     "is_executing": false,
     "name": "#%%\n"
    }
   },
   "outputs": [
    {
     "name": "stdout",
     "output_type": "stream",
     "text": [
      "[[ 0.98042789 -2.6599224  -0.83970261 -2.57846232  1.63102901  1.59680702]\n",
      " [ 1.2966543   2.77730202 -1.56281536  1.36191519  0.05851903 -1.14529369]\n",
      " [-1.11324753 -0.49798981 -1.41736499 -3.64590948 -1.74408025 -1.02271377]\n",
      " ...\n",
      " [ 0.30299166 -0.01513392 -3.76087816 -0.14516751  0.5472197  -0.88503424]\n",
      " [ 3.04884549  1.75243167  1.27937792  0.27073633  1.28851553  2.2701542 ]\n",
      " [-1.57838013 -0.60305905  0.8499289   3.59296108  0.56226344  0.36216961]]\n"
     ]
    }
   ],
   "source": [
    "cdf = fdf.copy()\n",
    "Y = cdf.label.values\n",
    "X = cdf.drop([\"prob\", \"label\", \"group\"], axis=1).values\n",
    "print(X)"
   ]
  },
  {
   "cell_type": "code",
   "execution_count": 213,
   "metadata": {
    "pycharm": {
     "is_executing": false,
     "name": "#%%\n"
    }
   },
   "outputs": [
    {
     "data": {
      "text/plain": [
       "<torch._C.Generator at 0x1a22ae7cd0>"
      ]
     },
     "execution_count": 213,
     "metadata": {},
     "output_type": "execute_result"
    }
   ],
   "source": [
    "import torch\n",
    "import torch.nn as nn\n",
    "import torch.nn.functional as F\n",
    "import torch.utils.data as Data\n",
    "torch.manual_seed(0)"
   ]
  },
  {
   "cell_type": "code",
   "execution_count": 214,
   "metadata": {
    "pycharm": {
     "is_executing": false,
     "name": "#%%\n"
    }
   },
   "outputs": [],
   "source": [
    "class ImbalancedDatasetSampler(Data.sampler.Sampler):\n",
    "    def __init__(self, dataset, indices=None, num_samples=None):\n",
    "        self.indices = list(range(len(dataset))) if indices is None else indices\n",
    "        self.num_samples = len(self.indices) if num_samples is None else num_samples\n",
    "        \n",
    "        label_to_count = {}\n",
    "        for idx in self.indices:\n",
    "            label = self._get_label(dataset, idx)\n",
    "            if label in label_to_count:\n",
    "                label_to_count[label] += 1\n",
    "            else:\n",
    "                label_to_count[label] = 1\n",
    "        \n",
    "        weights = [1.0 / label_to_count[self._get_label(dataset, idx)] for idx in self.indices]\n",
    "        self.weights = torch.DoubleTensor(weights)\n",
    "    \n",
    "    def _get_label(self, dataset, idx):\n",
    "        return dataset[idx][1].item()\n",
    "    \n",
    "    def __iter__(self):\n",
    "        return (self.indices[i] for i in torch.multinomial(self.weights, self.num_samples, replacement=True))\n",
    "    \n",
    "    def __len__(self):\n",
    "        return self.num_samples"
   ]
  },
  {
   "cell_type": "code",
   "execution_count": 215,
   "metadata": {
    "pycharm": {
     "is_executing": false,
     "name": "#%%\n"
    }
   },
   "outputs": [],
   "source": [
    "class SubNet(nn.Module):\n",
    "    def __init__(self):\n",
    "        super(SubNet, self).__init__()\n",
    "        self.fc1 = nn.Linear(1, 10)\n",
    "        self.fc2 = nn.Linear(10, 2)\n",
    "    \n",
    "    def forward(self, x):\n",
    "        x = F.relu(self.fc1(x))\n",
    "        x = self.fc2(x)\n",
    "        return F.softmax(x, 1)"
   ]
  },
  {
   "cell_type": "code",
   "execution_count": 216,
   "metadata": {
    "pycharm": {
     "is_executing": false,
     "name": "#%%\n"
    }
   },
   "outputs": [],
   "source": [
    "class FrontProcessing(nn.Module):\n",
    "    def __init__(self):\n",
    "        super(FrontProcessing, self).__init__()\n",
    "        self.weight = nn.Parameter(torch.zeros(6, 2))\n",
    "        self.weightT = torch.transpose(self.weight, 0, 1)\n",
    "        nn.init.orthogonal_(self.weightT)\n",
    "        self.weight.data.copy_(torch.transpose(self.weightT, 0, 1))\n",
    "        \n",
    "    def forward(self, x):\n",
    "        x = torch.mm(x, self.weight)\n",
    "        return x"
   ]
  },
  {
   "cell_type": "code",
   "execution_count": 217,
   "metadata": {
    "pycharm": {
     "is_executing": false,
     "name": "#%%\n"
    }
   },
   "outputs": [],
   "source": [
    "class Net(nn.Module):\n",
    "    def __init__(self, FrontProcessing, SubNet):\n",
    "        super(Net, self).__init__()\n",
    "        self.front = FrontProcessing()\n",
    "        self.subnet1 = SubNet()\n",
    "        self.subnet2 = SubNet()\n",
    "        self.oweight = nn.Parameter(torch.zeros(1))\n",
    "    \n",
    "    def forward(self, x):\n",
    "        x = self.front(x)\n",
    "        x1 = x[:, 0].view(-1, 1)\n",
    "        x2 = x[:, 1].view(-1, 1)\n",
    "        \n",
    "        x1 = self.subnet1(x1)\n",
    "        x2 = self.subnet2(x2)\n",
    "        x = self.oweight * x1 + (1.0 - self.oweight) * x2\n",
    "        return x[:, 1]"
   ]
  },
  {
   "cell_type": "code",
   "execution_count": 218,
   "metadata": {
    "pycharm": {
     "is_executing": false,
     "name": "#%%\n"
    }
   },
   "outputs": [
    {
     "name": "stdout",
     "output_type": "stream",
     "text": [
      "Net(\n",
      "  (front): FrontProcessing()\n",
      "  (subnet1): SubNet(\n",
      "    (fc1): Linear(in_features=1, out_features=10, bias=True)\n",
      "    (fc2): Linear(in_features=10, out_features=2, bias=True)\n",
      "  )\n",
      "  (subnet2): SubNet(\n",
      "    (fc1): Linear(in_features=1, out_features=10, bias=True)\n",
      "    (fc2): Linear(in_features=10, out_features=2, bias=True)\n",
      "  )\n",
      ")\n"
     ]
    }
   ],
   "source": [
    "net = Net(FrontProcessing, SubNet)\n",
    "net.double()\n",
    "print(net)"
   ]
  },
  {
   "cell_type": "code",
   "execution_count": 219,
   "metadata": {
    "pycharm": {
     "is_executing": false,
     "name": "#%%\n"
    }
   },
   "outputs": [],
   "source": [
    "X_torch = torch.DoubleTensor(X)\n",
    "Y_torch = torch.DoubleTensor(Y)"
   ]
  },
  {
   "cell_type": "code",
   "execution_count": 220,
   "metadata": {
    "pycharm": {
     "is_executing": false,
     "name": "#%%\n"
    }
   },
   "outputs": [],
   "source": [
    "torch_data_set = Data.TensorDataset(X_torch, Y_torch)\n",
    "# sampler = ImbalancedDatasetSampler(torch_data_set)\n",
    "loader = Data.DataLoader(dataset=torch_data_set, batch_size=10000, shuffle=True)"
   ]
  },
  {
   "cell_type": "code",
   "execution_count": 221,
   "metadata": {},
   "outputs": [
    {
     "data": {
      "text/plain": [
       "tensor([0.4706, 0.3566, 0.3492,  ..., 0.4136, 0.3506, 0.5655],\n",
       "       dtype=torch.float64, grad_fn=<SelectBackward>)"
      ]
     },
     "execution_count": 221,
     "metadata": {},
     "output_type": "execute_result"
    }
   ],
   "source": [
    "net(X_torch)"
   ]
  },
  {
   "cell_type": "code",
   "execution_count": 222,
   "metadata": {},
   "outputs": [
    {
     "data": {
      "text/plain": [
       "tensor([0., 0., 0.,  ..., 0., 0., 0.], dtype=torch.float64)"
      ]
     },
     "execution_count": 222,
     "metadata": {},
     "output_type": "execute_result"
    }
   ],
   "source": [
    "Y_torch"
   ]
  },
  {
   "cell_type": "code",
   "execution_count": 223,
   "metadata": {},
   "outputs": [
    {
     "data": {
      "text/plain": [
       "[Parameter containing:\n",
       " tensor([0.], dtype=torch.float64, requires_grad=True), Parameter containing:\n",
       " tensor([[ 0.4719,  0.0804],\n",
       "         [-0.0899,  0.7272],\n",
       "         [-0.6672, -0.2345],\n",
       "         [ 0.1741, -0.4185],\n",
       "         [-0.3321, -0.3104],\n",
       "         [-0.4283,  0.3719]], dtype=torch.float64, requires_grad=True), Parameter containing:\n",
       " tensor([[-0.1612],\n",
       "         [ 0.1058],\n",
       "         [ 0.9055],\n",
       "         [-0.9277],\n",
       "         [-0.6295],\n",
       "         [-0.2532],\n",
       "         [-0.3898],\n",
       "         [ 0.8640],\n",
       "         [-0.6482],\n",
       "         [-0.4603]], dtype=torch.float64, requires_grad=True), Parameter containing:\n",
       " tensor([-0.6986, -0.9366, -0.5837,  0.8596,  0.4462,  0.4847,  0.0526, -0.5127,\n",
       "          0.1692, -0.9337], dtype=torch.float64, requires_grad=True), Parameter containing:\n",
       " tensor([[-0.2285, -0.1630,  0.1995,  0.1854, -0.1402, -0.0114,  0.2022,  0.3144,\n",
       "           0.1255,  0.0427],\n",
       "         [ 0.2120, -0.1862,  0.0589, -0.2452, -0.2192, -0.1634,  0.1431,  0.1272,\n",
       "          -0.1873,  0.0955]], dtype=torch.float64, requires_grad=True), Parameter containing:\n",
       " tensor([ 0.1736, -0.0399], dtype=torch.float64, requires_grad=True), Parameter containing:\n",
       " tensor([[ 0.0382],\n",
       "         [ 0.2317],\n",
       "         [ 0.6204],\n",
       "         [ 0.9602],\n",
       "         [-0.7706],\n",
       "         [-0.3665],\n",
       "         [ 0.3930],\n",
       "         [ 0.8285],\n",
       "         [ 0.8702],\n",
       "         [ 0.8824]], dtype=torch.float64, requires_grad=True), Parameter containing:\n",
       " tensor([ 0.1990, -0.8696,  0.0920, -0.6256, -0.9320,  0.8885,  0.7604, -0.9975,\n",
       "          0.1872, -0.1685], dtype=torch.float64, requires_grad=True), Parameter containing:\n",
       " tensor([[-0.0520, -0.1448,  0.1216, -0.1873,  0.1159,  0.1599,  0.2264,  0.1182,\n",
       "          -0.3130, -0.2051],\n",
       "         [ 0.1579,  0.0662, -0.2467, -0.1821,  0.2975,  0.2131, -0.1379, -0.0796,\n",
       "          -0.3012, -0.0057]], dtype=torch.float64, requires_grad=True), Parameter containing:\n",
       " tensor([-0.2381, -0.2439], dtype=torch.float64, requires_grad=True)]"
      ]
     },
     "execution_count": 223,
     "metadata": {},
     "output_type": "execute_result"
    }
   ],
   "source": [
    "list(net.parameters())"
   ]
  },
  {
   "cell_type": "code",
   "execution_count": 265,
   "metadata": {
    "pycharm": {
     "is_executing": false,
     "name": "#%%\n"
    }
   },
   "outputs": [],
   "source": [
    "lr = 0.1\n",
    "criterion = nn.BCELoss()\n",
    "optimizer = torch.optim.SGD([{'params': net.subnet1.parameters()}, \n",
    "                             {'params': net.subnet2.parameters()}], lr=lr)"
   ]
  },
  {
   "cell_type": "code",
   "execution_count": 266,
   "metadata": {},
   "outputs": [
    {
     "data": {
      "text/plain": [
       "SGD (\n",
       "Parameter Group 0\n",
       "    dampening: 0\n",
       "    lr: 0.1\n",
       "    momentum: 0\n",
       "    nesterov: False\n",
       "    weight_decay: 0\n",
       "\n",
       "Parameter Group 1\n",
       "    dampening: 0\n",
       "    lr: 0.1\n",
       "    momentum: 0\n",
       "    nesterov: False\n",
       "    weight_decay: 0\n",
       ")"
      ]
     },
     "execution_count": 266,
     "metadata": {},
     "output_type": "execute_result"
    }
   ],
   "source": [
    "optimizer"
   ]
  },
  {
   "cell_type": "code",
   "execution_count": null,
   "metadata": {
    "pycharm": {
     "is_executing": false,
     "name": "#%%\n"
    }
   },
   "outputs": [
    {
     "name": "stdout",
     "output_type": "stream",
     "text": [
      "Epoch:  0 | loss:  0.09846804762434078\n",
      "Parameter containing:\n",
      "tensor([[ 0.4688, -0.1700],\n",
      "        [ 0.1619,  0.8120],\n",
      "        [-0.4934, -0.2367],\n",
      "        [ 0.5393, -0.4604],\n",
      "        [-0.1496, -0.1697],\n",
      "        [ 0.4442,  0.1223]], dtype=torch.float64, requires_grad=True)\n",
      "Parameter containing:\n",
      "tensor([0.8455], dtype=torch.float64, requires_grad=True)\n",
      "##########################\n",
      "Epoch:  1 | loss:  0.09846489946310931\n",
      "Parameter containing:\n",
      "tensor([[ 0.4683, -0.1693],\n",
      "        [ 0.1612,  0.8122],\n",
      "        [-0.4930, -0.2374],\n",
      "        [ 0.5409, -0.4597],\n",
      "        [-0.1497, -0.1699],\n",
      "        [ 0.4435,  0.1230]], dtype=torch.float64, requires_grad=True)\n",
      "Parameter containing:\n",
      "tensor([0.8450], dtype=torch.float64, requires_grad=True)\n",
      "##########################\n",
      "Epoch:  2 | loss:  0.09846340850763884\n",
      "Parameter containing:\n",
      "tensor([[ 0.4679, -0.1687],\n",
      "        [ 0.1606,  0.8123],\n",
      "        [-0.4927, -0.2379],\n",
      "        [ 0.5421, -0.4592],\n",
      "        [-0.1498, -0.1700],\n",
      "        [ 0.4430,  0.1235]], dtype=torch.float64, requires_grad=True)\n",
      "Parameter containing:\n",
      "tensor([0.8446], dtype=torch.float64, requires_grad=True)\n",
      "##########################\n",
      "Epoch:  3 | loss:  0.09846232173041343\n",
      "Parameter containing:\n",
      "tensor([[ 0.4675, -0.1683],\n",
      "        [ 0.1601,  0.8125],\n",
      "        [-0.4923, -0.2384],\n",
      "        [ 0.5431, -0.4587],\n",
      "        [-0.1499, -0.1701],\n",
      "        [ 0.4427,  0.1239]], dtype=torch.float64, requires_grad=True)\n",
      "Parameter containing:\n",
      "tensor([0.8444], dtype=torch.float64, requires_grad=True)\n",
      "##########################\n",
      "Epoch:  4 | loss:  0.09846201578043319\n",
      "Parameter containing:\n",
      "tensor([[ 0.4673, -0.1679],\n",
      "        [ 0.1596,  0.8126],\n",
      "        [-0.4922, -0.2387],\n",
      "        [ 0.5438, -0.4584],\n",
      "        [-0.1500, -0.1702],\n",
      "        [ 0.4424,  0.1242]], dtype=torch.float64, requires_grad=True)\n",
      "Parameter containing:\n",
      "tensor([0.8439], dtype=torch.float64, requires_grad=True)\n",
      "##########################\n",
      "Epoch:  5 | loss:  0.09846191553144477\n",
      "Parameter containing:\n",
      "tensor([[ 0.4671, -0.1676],\n",
      "        [ 0.1593,  0.8127],\n",
      "        [-0.4921, -0.2390],\n",
      "        [ 0.5443, -0.4581],\n",
      "        [-0.1501, -0.1703],\n",
      "        [ 0.4421,  0.1245]], dtype=torch.float64, requires_grad=True)\n",
      "Parameter containing:\n",
      "tensor([0.8437], dtype=torch.float64, requires_grad=True)\n",
      "##########################\n",
      "Epoch:  6 | loss:  0.09846117971542696\n",
      "Parameter containing:\n",
      "tensor([[ 0.4668, -0.1674],\n",
      "        [ 0.1591,  0.8127],\n",
      "        [-0.4919, -0.2393],\n",
      "        [ 0.5450, -0.4579],\n",
      "        [-0.1501, -0.1704],\n",
      "        [ 0.4419,  0.1247]], dtype=torch.float64, requires_grad=True)\n",
      "Parameter containing:\n",
      "tensor([0.8438], dtype=torch.float64, requires_grad=True)\n",
      "##########################\n",
      "Epoch:  7 | loss:  0.0984611457549106\n",
      "Parameter containing:\n",
      "tensor([[ 0.4666, -0.1673],\n",
      "        [ 0.1589,  0.8127],\n",
      "        [-0.4918, -0.2394],\n",
      "        [ 0.5451, -0.4578],\n",
      "        [-0.1502, -0.1704],\n",
      "        [ 0.4421,  0.1248]], dtype=torch.float64, requires_grad=True)\n",
      "Parameter containing:\n",
      "tensor([0.8437], dtype=torch.float64, requires_grad=True)\n",
      "##########################\n",
      "Epoch:  8 | loss:  0.09846119695436782\n",
      "Parameter containing:\n",
      "tensor([[ 0.4663, -0.1671],\n",
      "        [ 0.1587,  0.8128],\n",
      "        [-0.4916, -0.2395],\n",
      "        [ 0.5455, -0.4576],\n",
      "        [-0.1502, -0.1704],\n",
      "        [ 0.4421,  0.1250]], dtype=torch.float64, requires_grad=True)\n",
      "Parameter containing:\n",
      "tensor([0.8438], dtype=torch.float64, requires_grad=True)\n",
      "##########################\n",
      "Epoch:  9 | loss:  0.09846115795943775\n",
      "Parameter containing:\n",
      "tensor([[ 0.4662, -0.1670],\n",
      "        [ 0.1585,  0.8128],\n",
      "        [-0.4915, -0.2396],\n",
      "        [ 0.5457, -0.4575],\n",
      "        [-0.1503, -0.1704],\n",
      "        [ 0.4422,  0.1251]], dtype=torch.float64, requires_grad=True)\n",
      "Parameter containing:\n",
      "tensor([0.8438], dtype=torch.float64, requires_grad=True)\n",
      "##########################\n",
      "Epoch:  10 | loss:  0.09846110711750611\n",
      "Parameter containing:\n",
      "tensor([[ 0.4661, -0.1670],\n",
      "        [ 0.1585,  0.8128],\n",
      "        [-0.4915, -0.2397],\n",
      "        [ 0.5458, -0.4575],\n",
      "        [-0.1503, -0.1704],\n",
      "        [ 0.4423,  0.1251]], dtype=torch.float64, requires_grad=True)\n",
      "Parameter containing:\n",
      "tensor([0.8438], dtype=torch.float64, requires_grad=True)\n",
      "##########################\n",
      "Epoch:  11 | loss:  0.09846123717861546\n",
      "Parameter containing:\n",
      "tensor([[ 0.4662, -0.1670],\n",
      "        [ 0.1584,  0.8128],\n",
      "        [-0.4916, -0.2397],\n",
      "        [ 0.5457, -0.4575],\n",
      "        [-0.1504, -0.1704],\n",
      "        [ 0.4421,  0.1251]], dtype=torch.float64, requires_grad=True)\n",
      "Parameter containing:\n",
      "tensor([0.8434], dtype=torch.float64, requires_grad=True)\n",
      "##########################\n",
      "Epoch:  12 | loss:  0.09846095054287768\n",
      "Parameter containing:\n",
      "tensor([[ 0.4660, -0.1670],\n",
      "        [ 0.1584,  0.8128],\n",
      "        [-0.4915, -0.2397],\n",
      "        [ 0.5459, -0.4575],\n",
      "        [-0.1503, -0.1704],\n",
      "        [ 0.4422,  0.1251]], dtype=torch.float64, requires_grad=True)\n",
      "Parameter containing:\n",
      "tensor([0.8435], dtype=torch.float64, requires_grad=True)\n",
      "##########################\n",
      "Epoch:  13 | loss:  0.0984609380548296\n",
      "Parameter containing:\n",
      "tensor([[ 0.4658, -0.1669],\n",
      "        [ 0.1583,  0.8128],\n",
      "        [-0.4914, -0.2398],\n",
      "        [ 0.5462, -0.4574],\n",
      "        [-0.1504, -0.1704],\n",
      "        [ 0.4422,  0.1252]], dtype=torch.float64, requires_grad=True)\n",
      "Parameter containing:\n",
      "tensor([0.8437], dtype=torch.float64, requires_grad=True)\n",
      "##########################\n",
      "Epoch:  14 | loss:  0.0984608947818749\n",
      "Parameter containing:\n",
      "tensor([[ 0.4658, -0.1668],\n",
      "        [ 0.1583,  0.8129],\n",
      "        [-0.4914, -0.2399],\n",
      "        [ 0.5463, -0.4573],\n",
      "        [-0.1504, -0.1705],\n",
      "        [ 0.4422,  0.1252]], dtype=torch.float64, requires_grad=True)\n",
      "Parameter containing:\n",
      "tensor([0.8437], dtype=torch.float64, requires_grad=True)\n",
      "##########################\n",
      "Epoch:  15 | loss:  0.0984608484621354\n",
      "Parameter containing:\n",
      "tensor([[ 0.4657, -0.1668],\n",
      "        [ 0.1581,  0.8129],\n",
      "        [-0.4914, -0.2400],\n",
      "        [ 0.5464, -0.4572],\n",
      "        [-0.1504, -0.1705],\n",
      "        [ 0.4421,  0.1253]], dtype=torch.float64, requires_grad=True)\n",
      "Parameter containing:\n",
      "tensor([0.8435], dtype=torch.float64, requires_grad=True)\n",
      "##########################\n",
      "Epoch:  16 | loss:  0.09846158455265262\n",
      "Parameter containing:\n",
      "tensor([[ 0.4655, -0.1667],\n",
      "        [ 0.1581,  0.8129],\n",
      "        [-0.4912, -0.2401],\n",
      "        [ 0.5467, -0.4572],\n",
      "        [-0.1505, -0.1705],\n",
      "        [ 0.4422,  0.1254]], dtype=torch.float64, requires_grad=True)\n",
      "Parameter containing:\n",
      "tensor([0.8440], dtype=torch.float64, requires_grad=True)\n",
      "##########################\n",
      "Epoch:  17 | loss:  0.09846329170990699\n",
      "Parameter containing:\n",
      "tensor([[ 0.4653, -0.1666],\n",
      "        [ 0.1581,  0.8129],\n",
      "        [-0.4910, -0.2402],\n",
      "        [ 0.5471, -0.4571],\n",
      "        [-0.1504, -0.1705],\n",
      "        [ 0.4422,  0.1255]], dtype=torch.float64, requires_grad=True)\n",
      "Parameter containing:\n",
      "tensor([0.8442], dtype=torch.float64, requires_grad=True)\n",
      "##########################\n",
      "Epoch:  18 | loss:  0.09846087078527922\n",
      "Parameter containing:\n",
      "tensor([[ 0.4655, -0.1667],\n",
      "        [ 0.1580,  0.8129],\n",
      "        [-0.4913, -0.2401],\n",
      "        [ 0.5467, -0.4571],\n",
      "        [-0.1505, -0.1705],\n",
      "        [ 0.4421,  0.1254]], dtype=torch.float64, requires_grad=True)\n",
      "Parameter containing:\n",
      "tensor([0.8437], dtype=torch.float64, requires_grad=True)\n",
      "##########################\n",
      "Epoch:  19 | loss:  0.09846083331517028\n",
      "Parameter containing:\n",
      "tensor([[ 0.4655, -0.1667],\n",
      "        [ 0.1581,  0.8129],\n",
      "        [-0.4913, -0.2401],\n",
      "        [ 0.5466, -0.4572],\n",
      "        [-0.1505, -0.1705],\n",
      "        [ 0.4422,  0.1254]], dtype=torch.float64, requires_grad=True)\n",
      "Parameter containing:\n",
      "tensor([0.8437], dtype=torch.float64, requires_grad=True)\n",
      "##########################\n",
      "Epoch:  20 | loss:  0.09846095650269926\n",
      "Parameter containing:\n",
      "tensor([[ 0.4655, -0.1667],\n",
      "        [ 0.1581,  0.8129],\n",
      "        [-0.4912, -0.2401],\n",
      "        [ 0.5466, -0.4572],\n",
      "        [-0.1505, -0.1705],\n",
      "        [ 0.4422,  0.1253]], dtype=torch.float64, requires_grad=True)\n",
      "Parameter containing:\n",
      "tensor([0.8439], dtype=torch.float64, requires_grad=True)\n",
      "##########################\n",
      "Epoch:  21 | loss:  0.09846082112551416\n",
      "Parameter containing:\n",
      "tensor([[ 0.4655, -0.1668],\n",
      "        [ 0.1582,  0.8129],\n",
      "        [-0.4913, -0.2400],\n",
      "        [ 0.5466, -0.4573],\n",
      "        [-0.1506, -0.1704],\n",
      "        [ 0.4421,  0.1253]], dtype=torch.float64, requires_grad=True)\n",
      "Parameter containing:\n",
      "tensor([0.8439], dtype=torch.float64, requires_grad=True)\n",
      "##########################\n"
     ]
    },
    {
     "name": "stdout",
     "output_type": "stream",
     "text": [
      "Epoch:  22 | loss:  0.09846132630602275\n",
      "Parameter containing:\n",
      "tensor([[ 0.4653, -0.1668],\n",
      "        [ 0.1582,  0.8129],\n",
      "        [-0.4912, -0.2401],\n",
      "        [ 0.5468, -0.4573],\n",
      "        [-0.1507, -0.1704],\n",
      "        [ 0.4422,  0.1253]], dtype=torch.float64, requires_grad=True)\n",
      "Parameter containing:\n",
      "tensor([0.8442], dtype=torch.float64, requires_grad=True)\n",
      "##########################\n",
      "Epoch:  23 | loss:  0.09846080228350852\n",
      "Parameter containing:\n",
      "tensor([[ 0.4655, -0.1668],\n",
      "        [ 0.1582,  0.8128],\n",
      "        [-0.4913, -0.2400],\n",
      "        [ 0.5466, -0.4573],\n",
      "        [-0.1507, -0.1704],\n",
      "        [ 0.4422,  0.1253]], dtype=torch.float64, requires_grad=True)\n",
      "Parameter containing:\n",
      "tensor([0.8439], dtype=torch.float64, requires_grad=True)\n",
      "##########################\n",
      "Epoch:  24 | loss:  0.09846080313316422\n",
      "Parameter containing:\n",
      "tensor([[ 0.4655, -0.1669],\n",
      "        [ 0.1582,  0.8128],\n",
      "        [-0.4913, -0.2400],\n",
      "        [ 0.5464, -0.4574],\n",
      "        [-0.1508, -0.1704],\n",
      "        [ 0.4423,  0.1252]], dtype=torch.float64, requires_grad=True)\n",
      "Parameter containing:\n",
      "tensor([0.8439], dtype=torch.float64, requires_grad=True)\n",
      "##########################\n",
      "Epoch:  25 | loss:  0.09846118807156676\n",
      "Parameter containing:\n",
      "tensor([[ 0.4653, -0.1668],\n",
      "        [ 0.1582,  0.8128],\n",
      "        [-0.4912, -0.2400],\n",
      "        [ 0.5465, -0.4574],\n",
      "        [-0.1508, -0.1704],\n",
      "        [ 0.4425,  0.1252]], dtype=torch.float64, requires_grad=True)\n",
      "Parameter containing:\n",
      "tensor([0.8442], dtype=torch.float64, requires_grad=True)\n",
      "##########################\n",
      "Epoch:  26 | loss:  0.0984613345247887\n",
      "Parameter containing:\n",
      "tensor([[ 0.4656, -0.1669],\n",
      "        [ 0.1582,  0.8128],\n",
      "        [-0.4915, -0.2399],\n",
      "        [ 0.5461, -0.4575],\n",
      "        [-0.1508, -0.1704],\n",
      "        [ 0.4423,  0.1251]], dtype=torch.float64, requires_grad=True)\n",
      "Parameter containing:\n",
      "tensor([0.8437], dtype=torch.float64, requires_grad=True)\n",
      "##########################\n",
      "Epoch:  27 | loss:  0.0984607832275793\n",
      "Parameter containing:\n",
      "tensor([[ 0.4654, -0.1669],\n",
      "        [ 0.1582,  0.8128],\n",
      "        [-0.4913, -0.2400],\n",
      "        [ 0.5464, -0.4574],\n",
      "        [-0.1507, -0.1704],\n",
      "        [ 0.4425,  0.1252]], dtype=torch.float64, requires_grad=True)\n",
      "Parameter containing:\n",
      "tensor([0.8440], dtype=torch.float64, requires_grad=True)\n",
      "##########################\n",
      "Epoch:  28 | loss:  0.09846080051838198\n",
      "Parameter containing:\n",
      "tensor([[ 0.4654, -0.1669],\n",
      "        [ 0.1583,  0.8128],\n",
      "        [-0.4913, -0.2399],\n",
      "        [ 0.5463, -0.4574],\n",
      "        [-0.1507, -0.1704],\n",
      "        [ 0.4425,  0.1252]], dtype=torch.float64, requires_grad=True)\n",
      "Parameter containing:\n",
      "tensor([0.8440], dtype=torch.float64, requires_grad=True)\n",
      "##########################\n",
      "Epoch:  29 | loss:  0.09846125895777207\n",
      "Parameter containing:\n",
      "tensor([[ 0.4655, -0.1668],\n",
      "        [ 0.1581,  0.8128],\n",
      "        [-0.4914, -0.2400],\n",
      "        [ 0.5463, -0.4574],\n",
      "        [-0.1507, -0.1704],\n",
      "        [ 0.4423,  0.1252]], dtype=torch.float64, requires_grad=True)\n",
      "Parameter containing:\n",
      "tensor([0.8437], dtype=torch.float64, requires_grad=True)\n",
      "##########################\n",
      "Epoch:  30 | loss:  0.09846085261100292\n",
      "Parameter containing:\n",
      "tensor([[ 0.4654, -0.1668],\n",
      "        [ 0.1581,  0.8128],\n",
      "        [-0.4913, -0.2401],\n",
      "        [ 0.5465, -0.4573],\n",
      "        [-0.1506, -0.1704],\n",
      "        [ 0.4424,  0.1253]], dtype=torch.float64, requires_grad=True)\n",
      "Parameter containing:\n",
      "tensor([0.8439], dtype=torch.float64, requires_grad=True)\n",
      "##########################\n",
      "Epoch:  31 | loss:  0.09846078926164877\n",
      "Parameter containing:\n",
      "tensor([[ 0.4653, -0.1668],\n",
      "        [ 0.1581,  0.8128],\n",
      "        [-0.4912, -0.2401],\n",
      "        [ 0.5466, -0.4573],\n",
      "        [-0.1506, -0.1704],\n",
      "        [ 0.4425,  0.1253]], dtype=torch.float64, requires_grad=True)\n",
      "Parameter containing:\n",
      "tensor([0.8439], dtype=torch.float64, requires_grad=True)\n",
      "##########################\n",
      "Epoch:  32 | loss:  0.09846092131373\n",
      "Parameter containing:\n",
      "tensor([[ 0.4653, -0.1668],\n",
      "        [ 0.1581,  0.8128],\n",
      "        [-0.4913, -0.2401],\n",
      "        [ 0.5466, -0.4573],\n",
      "        [-0.1506, -0.1704],\n",
      "        [ 0.4423,  0.1253]], dtype=torch.float64, requires_grad=True)\n",
      "Parameter containing:\n",
      "tensor([0.8438], dtype=torch.float64, requires_grad=True)\n",
      "##########################\n",
      "Epoch:  33 | loss:  0.09846073641003569\n",
      "Parameter containing:\n",
      "tensor([[ 0.4652, -0.1668],\n",
      "        [ 0.1582,  0.8128],\n",
      "        [-0.4912, -0.2401],\n",
      "        [ 0.5467, -0.4573],\n",
      "        [-0.1506, -0.1704],\n",
      "        [ 0.4423,  0.1253]], dtype=torch.float64, requires_grad=True)\n",
      "Parameter containing:\n",
      "tensor([0.8440], dtype=torch.float64, requires_grad=True)\n",
      "##########################\n",
      "Epoch:  34 | loss:  0.09846087123154168\n",
      "Parameter containing:\n",
      "tensor([[ 0.4651, -0.1667],\n",
      "        [ 0.1581,  0.8128],\n",
      "        [-0.4911, -0.2402],\n",
      "        [ 0.5469, -0.4573],\n",
      "        [-0.1506, -0.1704],\n",
      "        [ 0.4423,  0.1254]], dtype=torch.float64, requires_grad=True)\n",
      "Parameter containing:\n",
      "tensor([0.8442], dtype=torch.float64, requires_grad=True)\n",
      "##########################\n",
      "Epoch:  35 | loss:  0.09846087116972951\n",
      "Parameter containing:\n",
      "tensor([[ 0.4654, -0.1668],\n",
      "        [ 0.1582,  0.8128],\n",
      "        [-0.4913, -0.2401],\n",
      "        [ 0.5465, -0.4574],\n",
      "        [-0.1506, -0.1703],\n",
      "        [ 0.4423,  0.1253]], dtype=torch.float64, requires_grad=True)\n",
      "Parameter containing:\n",
      "tensor([0.8440], dtype=torch.float64, requires_grad=True)\n",
      "##########################\n",
      "Epoch:  36 | loss:  0.09846072030610291\n",
      "Parameter containing:\n",
      "tensor([[ 0.4653, -0.1668],\n",
      "        [ 0.1582,  0.8128],\n",
      "        [-0.4913, -0.2402],\n",
      "        [ 0.5467, -0.4573],\n",
      "        [-0.1507, -0.1704],\n",
      "        [ 0.4422,  0.1253]], dtype=torch.float64, requires_grad=True)\n",
      "Parameter containing:\n",
      "tensor([0.8441], dtype=torch.float64, requires_grad=True)\n",
      "##########################\n",
      "Epoch:  37 | loss:  0.09846088251094172\n",
      "Parameter containing:\n",
      "tensor([[ 0.4654, -0.1668],\n",
      "        [ 0.1582,  0.8128],\n",
      "        [-0.4914, -0.2401],\n",
      "        [ 0.5466, -0.4574],\n",
      "        [-0.1507, -0.1703],\n",
      "        [ 0.4421,  0.1253]], dtype=torch.float64, requires_grad=True)\n",
      "Parameter containing:\n",
      "tensor([0.8440], dtype=torch.float64, requires_grad=True)\n",
      "##########################\n",
      "Epoch:  38 | loss:  0.09846111354727984\n",
      "Parameter containing:\n",
      "tensor([[ 0.4651, -0.1668],\n",
      "        [ 0.1583,  0.8128],\n",
      "        [-0.4911, -0.2402],\n",
      "        [ 0.5469, -0.4573],\n",
      "        [-0.1507, -0.1703],\n",
      "        [ 0.4423,  0.1253]], dtype=torch.float64, requires_grad=True)\n",
      "Parameter containing:\n",
      "tensor([0.8445], dtype=torch.float64, requires_grad=True)\n",
      "##########################\n",
      "Epoch:  39 | loss:  0.09846070741972118\n",
      "Parameter containing:\n",
      "tensor([[ 0.4653, -0.1669],\n",
      "        [ 0.1583,  0.8128],\n",
      "        [-0.4913, -0.2401],\n",
      "        [ 0.5466, -0.4574],\n",
      "        [-0.1508, -0.1703],\n",
      "        [ 0.4423,  0.1252]], dtype=torch.float64, requires_grad=True)\n",
      "Parameter containing:\n",
      "tensor([0.8443], dtype=torch.float64, requires_grad=True)\n",
      "##########################\n",
      "Epoch:  40 | loss:  0.09846087056558277\n",
      "Parameter containing:\n",
      "tensor([[ 0.4652, -0.1668],\n",
      "        [ 0.1582,  0.8128],\n",
      "        [-0.4912, -0.2401],\n",
      "        [ 0.5467, -0.4574],\n",
      "        [-0.1507, -0.1703],\n",
      "        [ 0.4424,  0.1253]], dtype=torch.float64, requires_grad=True)\n",
      "Parameter containing:\n",
      "tensor([0.8445], dtype=torch.float64, requires_grad=True)\n",
      "##########################\n",
      "Epoch:  41 | loss:  0.09846131144483658\n",
      "Parameter containing:\n",
      "tensor([[ 0.4655, -0.1669],\n",
      "        [ 0.1582,  0.8127],\n",
      "        [-0.4914, -0.2401],\n",
      "        [ 0.5463, -0.4575],\n",
      "        [-0.1508, -0.1703],\n",
      "        [ 0.4423,  0.1252]], dtype=torch.float64, requires_grad=True)\n",
      "Parameter containing:\n",
      "tensor([0.8440], dtype=torch.float64, requires_grad=True)\n",
      "##########################\n",
      "Epoch:  42 | loss:  0.09846072009511524\n",
      "Parameter containing:\n",
      "tensor([[ 0.4653, -0.1668],\n",
      "        [ 0.1582,  0.8128],\n",
      "        [-0.4913, -0.2401],\n",
      "        [ 0.5465, -0.4574],\n",
      "        [-0.1508, -0.1703],\n",
      "        [ 0.4424,  0.1253]], dtype=torch.float64, requires_grad=True)\n",
      "Parameter containing:\n",
      "tensor([0.8443], dtype=torch.float64, requires_grad=True)\n",
      "##########################\n",
      "Epoch:  43 | loss:  0.09846081646713166\n",
      "Parameter containing:\n",
      "tensor([[ 0.4654, -0.1668],\n",
      "        [ 0.1580,  0.8128],\n",
      "        [-0.4913, -0.2402],\n",
      "        [ 0.5465, -0.4573],\n",
      "        [-0.1509, -0.1703],\n",
      "        [ 0.4423,  0.1253]], dtype=torch.float64, requires_grad=True)\n",
      "Parameter containing:\n",
      "tensor([0.8442], dtype=torch.float64, requires_grad=True)\n",
      "##########################\n"
     ]
    },
    {
     "name": "stdout",
     "output_type": "stream",
     "text": [
      "Epoch:  44 | loss:  0.09846082110483723\n",
      "Parameter containing:\n",
      "tensor([[ 0.4653, -0.1668],\n",
      "        [ 0.1582,  0.8128],\n",
      "        [-0.4911, -0.2402],\n",
      "        [ 0.5467, -0.4574],\n",
      "        [-0.1508, -0.1703],\n",
      "        [ 0.4424,  0.1253]], dtype=torch.float64, requires_grad=True)\n",
      "Parameter containing:\n",
      "tensor([0.8445], dtype=torch.float64, requires_grad=True)\n",
      "##########################\n",
      "Epoch:  45 | loss:  0.09846070628420657\n",
      "Parameter containing:\n",
      "tensor([[ 0.4653, -0.1668],\n",
      "        [ 0.1582,  0.8128],\n",
      "        [-0.4911, -0.2401],\n",
      "        [ 0.5466, -0.4574],\n",
      "        [-0.1508, -0.1703],\n",
      "        [ 0.4425,  0.1253]], dtype=torch.float64, requires_grad=True)\n",
      "Parameter containing:\n",
      "tensor([0.8444], dtype=torch.float64, requires_grad=True)\n",
      "##########################\n",
      "Epoch:  46 | loss:  0.09846068527494058\n",
      "Parameter containing:\n",
      "tensor([[ 0.4653, -0.1668],\n",
      "        [ 0.1581,  0.8128],\n",
      "        [-0.4911, -0.2402],\n",
      "        [ 0.5466, -0.4574],\n",
      "        [-0.1509, -0.1703],\n",
      "        [ 0.4424,  0.1253]], dtype=torch.float64, requires_grad=True)\n",
      "Parameter containing:\n",
      "tensor([0.8444], dtype=torch.float64, requires_grad=True)\n",
      "##########################\n",
      "Epoch:  47 | loss:  0.09846067971262752\n",
      "Parameter containing:\n",
      "tensor([[ 0.4653, -0.1668],\n",
      "        [ 0.1581,  0.8128],\n",
      "        [-0.4911, -0.2402],\n",
      "        [ 0.5467, -0.4573],\n",
      "        [-0.1509, -0.1703],\n",
      "        [ 0.4423,  0.1253]], dtype=torch.float64, requires_grad=True)\n",
      "Parameter containing:\n",
      "tensor([0.8443], dtype=torch.float64, requires_grad=True)\n",
      "##########################\n",
      "Epoch:  48 | loss:  0.09846108595242851\n",
      "Parameter containing:\n",
      "tensor([[ 0.4654, -0.1668],\n",
      "        [ 0.1581,  0.8128],\n",
      "        [-0.4912, -0.2402],\n",
      "        [ 0.5465, -0.4574],\n",
      "        [-0.1509, -0.1703],\n",
      "        [ 0.4423,  0.1253]], dtype=torch.float64, requires_grad=True)\n",
      "Parameter containing:\n",
      "tensor([0.8440], dtype=torch.float64, requires_grad=True)\n",
      "##########################\n",
      "Epoch:  49 | loss:  0.09846069508848503\n",
      "Parameter containing:\n",
      "tensor([[ 0.4653, -0.1667],\n",
      "        [ 0.1580,  0.8128],\n",
      "        [-0.4911, -0.2403],\n",
      "        [ 0.5468, -0.4573],\n",
      "        [-0.1508, -0.1703],\n",
      "        [ 0.4423,  0.1254]], dtype=torch.float64, requires_grad=True)\n",
      "Parameter containing:\n",
      "tensor([0.8444], dtype=torch.float64, requires_grad=True)\n",
      "##########################\n",
      "Epoch:  50 | loss:  0.09846096140153755\n",
      "Parameter containing:\n",
      "tensor([[ 0.4652, -0.1667],\n",
      "        [ 0.1580,  0.8128],\n",
      "        [-0.4910, -0.2403],\n",
      "        [ 0.5469, -0.4573],\n",
      "        [-0.1508, -0.1703],\n",
      "        [ 0.4424,  0.1254]], dtype=torch.float64, requires_grad=True)\n",
      "Parameter containing:\n",
      "tensor([0.8445], dtype=torch.float64, requires_grad=True)\n",
      "##########################\n",
      "Epoch:  51 | loss:  0.09846069003354051\n",
      "Parameter containing:\n",
      "tensor([[ 0.4653, -0.1668],\n",
      "        [ 0.1581,  0.8128],\n",
      "        [-0.4912, -0.2403],\n",
      "        [ 0.5467, -0.4573],\n",
      "        [-0.1508, -0.1703],\n",
      "        [ 0.4422,  0.1254]], dtype=torch.float64, requires_grad=True)\n",
      "Parameter containing:\n",
      "tensor([0.8442], dtype=torch.float64, requires_grad=True)\n",
      "##########################\n",
      "Epoch:  52 | loss:  0.09846104687822316\n",
      "Parameter containing:\n",
      "tensor([[ 0.4654, -0.1668],\n",
      "        [ 0.1580,  0.8128],\n",
      "        [-0.4912, -0.2402],\n",
      "        [ 0.5466, -0.4573],\n",
      "        [-0.1508, -0.1703],\n",
      "        [ 0.4422,  0.1253]], dtype=torch.float64, requires_grad=True)\n",
      "Parameter containing:\n",
      "tensor([0.8441], dtype=torch.float64, requires_grad=True)\n",
      "##########################\n",
      "Epoch:  53 | loss:  0.09846117241690121\n",
      "Parameter containing:\n",
      "tensor([[ 0.4651, -0.1667],\n",
      "        [ 0.1581,  0.8128],\n",
      "        [-0.4909, -0.2403],\n",
      "        [ 0.5470, -0.4572],\n",
      "        [-0.1508, -0.1703],\n",
      "        [ 0.4424,  0.1254]], dtype=torch.float64, requires_grad=True)\n",
      "Parameter containing:\n",
      "tensor([0.8446], dtype=torch.float64, requires_grad=True)\n",
      "##########################\n",
      "Epoch:  54 | loss:  0.09846074052298757\n",
      "Parameter containing:\n",
      "tensor([[ 0.4652, -0.1668],\n",
      "        [ 0.1582,  0.8128],\n",
      "        [-0.4910, -0.2403],\n",
      "        [ 0.5469, -0.4573],\n",
      "        [-0.1508, -0.1703],\n",
      "        [ 0.4424,  0.1253]], dtype=torch.float64, requires_grad=True)\n",
      "Parameter containing:\n",
      "tensor([0.8445], dtype=torch.float64, requires_grad=True)\n",
      "##########################\n",
      "Epoch:  55 | loss:  0.09846096524372455\n",
      "Parameter containing:\n",
      "tensor([[ 0.4654, -0.1668],\n",
      "        [ 0.1582,  0.8128],\n",
      "        [-0.4913, -0.2402],\n",
      "        [ 0.5466, -0.4574],\n",
      "        [-0.1507, -0.1703],\n",
      "        [ 0.4423,  0.1253]], dtype=torch.float64, requires_grad=True)\n",
      "Parameter containing:\n",
      "tensor([0.8442], dtype=torch.float64, requires_grad=True)\n",
      "##########################\n",
      "Epoch:  56 | loss:  0.09846085285581913\n",
      "Parameter containing:\n",
      "tensor([[ 0.4653, -0.1668],\n",
      "        [ 0.1582,  0.8128],\n",
      "        [-0.4913, -0.2402],\n",
      "        [ 0.5466, -0.4574],\n",
      "        [-0.1507, -0.1703],\n",
      "        [ 0.4423,  0.1253]], dtype=torch.float64, requires_grad=True)\n",
      "Parameter containing:\n",
      "tensor([0.8443], dtype=torch.float64, requires_grad=True)\n",
      "##########################\n"
     ]
    }
   ],
   "source": [
    "for epoch in range(600):\n",
    "    for step, (X_train, Y_train) in enumerate(loader):\n",
    "        optimizer.zero_grad()\n",
    "        net.zero_grad()\n",
    "        X_train = X_train.requires_grad_(True)\n",
    "        \n",
    "        prediction = net(X_train)\n",
    "        loss = criterion(prediction, Y_train.double())\n",
    "        \n",
    "        loss.backward()\n",
    "        \n",
    "        weight_partial = net.front.weight.grad\n",
    "        oweight_partial = net.oweight.grad\n",
    "        \n",
    "        with torch.no_grad():\n",
    "            matA = torch.mm(weight_partial, \n",
    "                            torch.transpose(net.front.weight, 0, 1)) - torch.mm(net.front.weight, \n",
    "                                                                          torch.transpose(weight_partial, 0, 1))\n",
    "            update_matrix = torch.mm(torch.inverse(torch.eye(6).double() + matA * lr / 2.0), (torch.eye(6).double() - matA * lr / 2.0))\n",
    "            updated_weight = torch.mm(update_matrix, net.front.weight)\n",
    "            updated_oweight = net.oweight - lr * oweight_partial\n",
    "            \n",
    "            net.front.weight.data.copy_(updated_weight)\n",
    "            net.oweight.data.copy_(updated_oweight)\n",
    "            net.oweight.clamp_(0, 1)\n",
    "        \n",
    "        optimizer.step()\n",
    "        \n",
    "    with torch.no_grad():\n",
    "        loss_all = criterion(net(X_torch), Y_torch.double())\n",
    "        print(\"Epoch: \", epoch, \"| loss: \", loss_all.data.numpy())\n",
    "        print(net.front.weight)\n",
    "        print(net.oweight)\n",
    "        print(\"##########################\")"
   ]
  },
  {
   "cell_type": "code",
   "execution_count": 241,
   "metadata": {},
   "outputs": [
    {
     "data": {
      "text/plain": [
       "array([ 0.47669462,  0.15964814, -0.47766656,  0.55284255, -0.13930486,\n",
       "        0.44053222])"
      ]
     },
     "execution_count": 241,
     "metadata": {},
     "output_type": "execute_result"
    }
   ],
   "source": [
    "x[0]"
   ]
  },
  {
   "cell_type": "code",
   "execution_count": 242,
   "metadata": {},
   "outputs": [
    {
     "data": {
      "text/plain": [
       "array([ 0.10813329, -0.8838343 ,  0.06718921,  0.39309219,  0.13141423,\n",
       "       -0.1756091 ])"
      ]
     },
     "execution_count": 242,
     "metadata": {},
     "output_type": "execute_result"
    }
   ],
   "source": [
    "x[1]"
   ]
  },
  {
   "cell_type": "code",
   "execution_count": 243,
   "metadata": {
    "pycharm": {
     "is_executing": false,
     "name": "#%%\n"
    }
   },
   "outputs": [
    {
     "name": "stdout",
     "output_type": "stream",
     "text": [
      "Parameter containing:\n",
      "tensor([0.8297], dtype=torch.float64, requires_grad=True)\n",
      "Parameter containing:\n",
      "tensor([[ 0.4650, -0.1690],\n",
      "        [ 0.1581,  0.8144],\n",
      "        [-0.4924, -0.2387],\n",
      "        [ 0.5453, -0.4546],\n",
      "        [-0.1475, -0.1710],\n",
      "        [ 0.4441,  0.1238]], dtype=torch.float64, requires_grad=True)\n",
      "Parameter containing:\n",
      "tensor([[-0.1522],\n",
      "        [ 0.1058],\n",
      "        [ 0.7251],\n",
      "        [-0.2440],\n",
      "        [-0.6087],\n",
      "        [-0.1706],\n",
      "        [-0.3767],\n",
      "        [ 0.6839],\n",
      "        [-0.5567],\n",
      "        [-0.4776]], dtype=torch.float64, requires_grad=True)\n",
      "Parameter containing:\n",
      "tensor([-0.7005, -0.9366, -0.7670,  1.5191,  0.6499,  1.0968,  0.1035, -0.6464,\n",
      "         0.4757, -0.9273], dtype=torch.float64, requires_grad=True)\n",
      "Parameter containing:\n",
      "tensor([[-0.2282, -0.1630, -0.1215,  0.4332,  0.1388,  0.3737,  0.1821, -0.0019,\n",
      "          0.2313,  0.0155],\n",
      "        [ 0.2117, -0.1862,  0.3799, -0.4929, -0.4983, -0.5485,  0.1632,  0.4434,\n",
      "         -0.2932,  0.1227]], dtype=torch.float64, requires_grad=True)\n",
      "Parameter containing:\n",
      "tensor([ 1.0087, -0.8750], dtype=torch.float64, requires_grad=True)\n",
      "Parameter containing:\n",
      "tensor([[ 0.0869],\n",
      "        [ 0.2277],\n",
      "        [ 0.7129],\n",
      "        [ 0.9631],\n",
      "        [-0.7057],\n",
      "        [ 0.2007],\n",
      "        [ 0.2155],\n",
      "        [ 0.8582],\n",
      "        [ 0.8834],\n",
      "        [ 0.8471]], dtype=torch.float64, requires_grad=True)\n",
      "Parameter containing:\n",
      "tensor([ 0.1032, -0.8705,  0.3880, -0.6203, -0.9600,  1.2762,  1.3696, -0.9843,\n",
      "         0.3344, -0.1811], dtype=torch.float64, requires_grad=True)\n",
      "Parameter containing:\n",
      "tensor([[ 6.3930e-02, -1.4411e-01,  3.6466e-01, -6.7878e-02,  9.7690e-02,\n",
      "          9.3568e-01,  8.6296e-01,  1.7716e-01,  5.0969e-04, -3.0209e-02],\n",
      "        [ 4.1928e-02,  6.5545e-02, -4.8974e-01, -3.0152e-01,  3.1573e-01,\n",
      "         -5.6268e-01, -7.7446e-01, -1.3851e-01, -6.1473e-01, -1.8061e-01]],\n",
      "       dtype=torch.float64, requires_grad=True)\n",
      "Parameter containing:\n",
      "tensor([ 0.4853, -0.9673], dtype=torch.float64, requires_grad=True)\n"
     ]
    }
   ],
   "source": [
    "for param in net.parameters():\n",
    "    print(param)"
   ]
  },
  {
   "cell_type": "code",
   "execution_count": 244,
   "metadata": {
    "pycharm": {
     "is_executing": false,
     "name": "#%%\n"
    }
   },
   "outputs": [],
   "source": [
    "# out = net(X_torch)\n",
    "# _, prediction = torch.max(out.data, 1)\n",
    "# print('accuracy:%.3f %%' % (100 * torch.sum(Y_torch.long()==prediction) / 200000))"
   ]
  },
  {
   "cell_type": "code",
   "execution_count": 245,
   "metadata": {},
   "outputs": [],
   "source": [
    "x_result_1 = net.front(X_torch)[:, 0].view(-1, 1).data.numpy()"
   ]
  },
  {
   "cell_type": "code",
   "execution_count": 246,
   "metadata": {},
   "outputs": [],
   "source": [
    "y_result_1 = net.subnet1(net.front(X_torch)[:, 0].view(-1, 1))[:, 1].data.numpy()"
   ]
  },
  {
   "cell_type": "code",
   "execution_count": 247,
   "metadata": {},
   "outputs": [],
   "source": [
    "x_true_1 = np.arange(-10, 10, 0.1)"
   ]
  },
  {
   "cell_type": "code",
   "execution_count": 248,
   "metadata": {},
   "outputs": [],
   "source": [
    "y_true_1 = 1.0 / (1.0 + np.exp(-x_true_1 + 5))"
   ]
  },
  {
   "cell_type": "code",
   "execution_count": 249,
   "metadata": {},
   "outputs": [],
   "source": [
    "x_result_2 = net.front(X_torch)[:, 1].view(-1, 1).data.numpy()"
   ]
  },
  {
   "cell_type": "code",
   "execution_count": 250,
   "metadata": {},
   "outputs": [],
   "source": [
    "y_result_2 = net.subnet2(net.front(X_torch)[:, 1].view(-1, 1))[:, 1].data.numpy()"
   ]
  },
  {
   "cell_type": "code",
   "execution_count": 254,
   "metadata": {},
   "outputs": [],
   "source": [
    "x_true_2 = np.arange(-10, 10, 0.1)"
   ]
  },
  {
   "cell_type": "code",
   "execution_count": 255,
   "metadata": {},
   "outputs": [],
   "source": [
    "y_true_2 = 1.0 / (1.0 + np.exp(-x_true_2 + 6))"
   ]
  },
  {
   "cell_type": "code",
   "execution_count": 251,
   "metadata": {},
   "outputs": [],
   "source": [
    "# y_result"
   ]
  },
  {
   "cell_type": "code",
   "execution_count": 252,
   "metadata": {},
   "outputs": [],
   "source": [
    "# from sklearn.linear_model import LinearRegression\n",
    "\n",
    "# reg = LinearRegression()\n",
    "# reg.fit(x_result, y_result)"
   ]
  },
  {
   "cell_type": "code",
   "execution_count": 253,
   "metadata": {},
   "outputs": [
    {
     "data": {
      "image/png": "[encoded data removed]",
      "text/plain": [
       "<Figure size 432x288 with 1 Axes>"
      ]
     },
     "metadata": {},
     "output_type": "display_data"
    }
   ],
   "source": [
    "import matplotlib.pyplot as plt\n",
    "fig, ax = plt.subplots()\n",
    "ax.scatter(x_result_1.reshape(-1, 1), y_result_1)\n",
    "ax.scatter(x_true_1, y_true_1)\n",
    "# ax.plot(x_result.reshape(-1, 1), reg.predict(x_result))\n",
    "plt.show()"
   ]
  },
  {
   "cell_type": "code",
   "execution_count": 257,
   "metadata": {},
   "outputs": [
    {
     "data": {
      "image/png": "[encoded data removed]",
      "text/plain": [
       "<Figure size 432x288 with 1 Axes>"
      ]
     },
     "metadata": {},
     "output_type": "display_data"
    }
   ],
   "source": [
    "fig, ax = plt.subplots()\n",
    "ax.scatter((1.0 - x_result_2).reshape(-1, 1), y_result_2)\n",
    "ax.scatter(x_true_2, y_true_2)\n",
    "# ax.plot(x_result.reshape(-1, 1), reg.predict(x_result))\n",
    "plt.show()"
   ]
  },
  {
   "cell_type": "code",
   "execution_count": 68,
   "metadata": {},
   "outputs": [
    {
     "data": {
      "image/png": "[encoded data removed]",
      "text/plain": [
       "<Figure size 432x288 with 1 Axes>"
      ]
     },
     "metadata": {},
     "output_type": "display_data"
    }
   ],
   "source": [
    "import matplotlib.pyplot as plt\n",
    "fig, ax = plt.subplots()\n",
    "ax.scatter((x_result_1).reshape(-1, 1), y_result_1)\n",
    "# ax.plot(x_result.reshape(-1, 1), reg.predict(x_result))\n",
    "plt.show()"
   ]
  },
  {
   "cell_type": "code",
   "execution_count": null,
   "metadata": {},
   "outputs": [],
   "source": []
  }
 ],
 "metadata": {
  "kernelspec": {
   "display_name": "Python 3",
   "language": "python",
   "name": "python3"
  },
  "language_info": {
   "codemirror_mode": {
    "name": "ipython",
    "version": 3
   },
   "file_extension": ".py",
   "mimetype": "text/x-python",
   "name": "python",
   "nbconvert_exporter": "python",
   "pygments_lexer": "ipython3",
   "version": "3.6.5"
  },
  "pycharm": {
   "stem_cell": {
    "cell_type": "raw",
    "metadata": {
     "collapsed": false
    },
    "source": []
   }
  }
 },
 "nbformat": 4,
 "nbformat_minor": 1
}
